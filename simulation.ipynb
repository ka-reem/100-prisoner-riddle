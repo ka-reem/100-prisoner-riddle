{
 "cells": [
  {
   "cell_type": "code",
   "execution_count": 4,
   "metadata": {},
   "outputs": [
    {
     "name": "stdout",
     "output_type": "stream",
     "text": [
      "hello\n"
     ]
    }
   ],
   "source": [
    "# "
   ]
  },
  {
   "attachments": {},
   "cell_type": "markdown",
   "metadata": {},
   "source": [
    "YouTube Link: https://www.youtube.com/watch?v=iSNsgj1OCLA\n",
    "Plan:\n",
    "Create a hashamp of 100\n",
    "Keys: 1-100\n",
    "Values: each will be randomly assinged\n",
    "To Set values: \n",
    "create a list with nums from 1-100. \n",
    "iterate through map(might need to make an iterable map?) and pick random number from array from range 0 to list size then remove num from list"
   ]
  },
  {
   "cell_type": "code",
   "execution_count": 7,
   "metadata": {},
   "outputs": [
    {
     "name": "stdout",
     "output_type": "stream",
     "text": [
      "{1: None, 2: None, 3: None, 4: None, 5: None, 6: None, 7: None, 8: None, 9: None, 10: None, 11: None, 12: None, 13: None, 14: None, 15: None, 16: None, 17: None, 18: None, 19: None, 20: None, 21: None, 22: None, 23: None, 24: None, 25: None, 26: None, 27: None, 28: None, 29: None, 30: None, 31: None, 32: None, 33: None, 34: None, 35: None, 36: None, 37: None, 38: None, 39: None, 40: None, 41: None, 42: None, 43: None, 44: None, 45: None, 46: None, 47: None, 48: None, 49: None, 50: None, 51: None, 52: None, 53: None, 54: None, 55: None, 56: None, 57: None, 58: None, 59: None, 60: None, 61: None, 62: None, 63: None, 64: None, 65: None, 66: None, 67: None, 68: None, 69: None, 70: None, 71: None, 72: None, 73: None, 74: None, 75: None, 76: None, 77: None, 78: None, 79: None, 80: None, 81: None, 82: None, 83: None, 84: None, 85: None, 86: None, 87: None, 88: None, 89: None, 90: None, 91: None, 92: None, 93: None, 94: None, 95: None, 96: None, 97: None, 98: None, 99: None, 100: None}\n",
      "[1, 2, 3, 4, 5, 6, 7, 8, 9, 10, 11, 12, 13, 14, 15, 16, 17, 18, 19, 20, 21, 22, 23, 24, 25, 26, 27, 28, 29, 30, 31, 32, 33, 34, 35, 36, 37, 38, 39, 40, 41, 42, 43, 44, 45, 46, 47, 48, 49, 50, 51, 52, 53, 54, 55, 56, 57, 58, 59, 60, 61, 62, 63, 64, 65, 66, 67, 68, 69, 70, 71, 72, 73, 74, 75, 76, 77, 78, 79, 80, 81, 82, 83, 84, 85, 86, 87, 88, 89, 90, 91, 92, 93, 94, 95, 96, 97, 98, 99, 100]\n",
      "{1: 70, 2: 63, 3: 21, 4: 98, 5: 94, 6: 41, 7: 47, 8: 84, 9: 36, 10: 23, 11: 99, 12: 71, 13: 95, 14: 55, 15: 48, 16: 9, 17: 51, 18: 53, 19: 16, 20: 58, 21: 77, 22: 66, 23: 56, 24: 88, 25: 2, 26: 69, 27: 34, 28: 22, 29: 85, 30: 61, 31: 3, 32: 76, 33: 5, 34: 46, 35: 81, 36: 35, 37: 43, 38: 30, 39: 18, 40: 52, 41: 60, 42: 38, 43: 42, 44: 37, 45: 39, 46: 19, 47: 50, 48: 4, 49: 11, 50: 74, 51: 72, 52: 1, 53: 80, 54: 62, 55: 24, 56: 12, 57: 14, 58: 65, 59: 96, 60: 83, 61: 57, 62: 31, 63: 90, 64: 92, 65: 59, 66: 20, 67: 86, 68: 7, 69: 54, 70: 93, 71: 82, 72: 78, 73: 44, 74: 45, 75: 26, 76: 97, 77: 89, 78: 33, 79: 64, 80: 28, 81: 25, 82: 49, 83: 100, 84: 32, 85: 15, 86: 75, 87: 87, 88: 10, 89: 17, 90: 27, 91: 73, 92: 29, 93: 40, 94: 6, 95: 67, 96: 13, 97: 68, 98: 8, 99: 79, 100: 91}\n"
     ]
    }
   ],
   "source": [
    "# Give each prisoner a random number\n",
    "import random\n",
    "\n",
    "prisonersAndNumbers =  {key: None for key in range(1, 101)}\n",
    "print(prisonersAndNumbers)\n",
    "\n",
    "num_list = list(range(1, 101)) \n",
    "print(num_list)\n",
    "\n",
    "for key in prisonersAndNumbers:\n",
    "    rand_num_index = random.randint(0, len(num_list) - 1) # could also use shuffle\n",
    "    prisonersAndNumbers[key] = num_list[rand_num_index]\n",
    "    num_list.pop(rand_num_index) # probably pretty inefficient\n",
    "\n",
    "print(prisonersAndNumbers)"
   ]
  },
  {
   "attachments": {},
   "cell_type": "markdown",
   "metadata": {},
   "source": [
    "Example: \n",
    "First prisoner(prisoner #1), get their value. i.e. their value is 2. get value of key 2, continuously get the next value of the key. add a loop limit of 50 b/c you can only open 50 boxes or break when the key equals the original value of the prisoner\n",
    "To test:\n",
    "loop 50 times\n",
    "get value of \n"
   ]
  },
  {
   "cell_type": "code",
   "execution_count": null,
   "metadata": {},
   "outputs": [],
   "source": []
  }
 ],
 "metadata": {
  "kernelspec": {
   "display_name": "base",
   "language": "python",
   "name": "python3"
  },
  "language_info": {
   "codemirror_mode": {
    "name": "ipython",
    "version": 3
   },
   "file_extension": ".py",
   "mimetype": "text/x-python",
   "name": "python",
   "nbconvert_exporter": "python",
   "pygments_lexer": "ipython3",
   "version": "3.10.8"
  },
  "orig_nbformat": 4
 },
 "nbformat": 4,
 "nbformat_minor": 2
}
