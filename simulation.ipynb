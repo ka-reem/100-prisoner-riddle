{
 "cells": [
  {
   "cell_type": "code",
   "execution_count": 4,
   "metadata": {},
   "outputs": [
    {
     "name": "stdout",
     "output_type": "stream",
     "text": [
      "hello\n"
     ]
    }
   ],
   "source": [
    "# "
   ]
  },
  {
   "attachments": {},
   "cell_type": "markdown",
   "metadata": {},
   "source": [
    "YouTube Link: https://www.youtube.com/watch?v=iSNsgj1OCLA\n",
    "Plan:\n",
    "Create a hashamp of 100\n",
    "Keys: 1-100\n",
    "Values: each will be randomly assinged\n",
    "To Set values: \n",
    "create a list with nums from 1-100. \n",
    "iterate through map(might need to make an iterable map?) and pick random number from array from range 0 to list size then remove num from list"
   ]
  },
  {
   "cell_type": "code",
   "execution_count": 133,
   "metadata": {},
   "outputs": [
    {
     "name": "stdout",
     "output_type": "stream",
     "text": [
      "{1: None, 2: None, 3: None, 4: None, 5: None, 6: None, 7: None, 8: None, 9: None, 10: None, 11: None, 12: None, 13: None, 14: None, 15: None, 16: None, 17: None, 18: None, 19: None, 20: None, 21: None, 22: None, 23: None, 24: None, 25: None, 26: None, 27: None, 28: None, 29: None, 30: None, 31: None, 32: None, 33: None, 34: None, 35: None, 36: None, 37: None, 38: None, 39: None, 40: None, 41: None, 42: None, 43: None, 44: None, 45: None, 46: None, 47: None, 48: None, 49: None, 50: None, 51: None, 52: None, 53: None, 54: None, 55: None, 56: None, 57: None, 58: None, 59: None, 60: None, 61: None, 62: None, 63: None, 64: None, 65: None, 66: None, 67: None, 68: None, 69: None, 70: None, 71: None, 72: None, 73: None, 74: None, 75: None, 76: None, 77: None, 78: None, 79: None, 80: None, 81: None, 82: None, 83: None, 84: None, 85: None, 86: None, 87: None, 88: None, 89: None, 90: None, 91: None, 92: None, 93: None, 94: None, 95: None, 96: None, 97: None, 98: None, 99: None, 100: None}\n",
      "[1, 2, 3, 4, 5, 6, 7, 8, 9, 10, 11, 12, 13, 14, 15, 16, 17, 18, 19, 20, 21, 22, 23, 24, 25, 26, 27, 28, 29, 30, 31, 32, 33, 34, 35, 36, 37, 38, 39, 40, 41, 42, 43, 44, 45, 46, 47, 48, 49, 50, 51, 52, 53, 54, 55, 56, 57, 58, 59, 60, 61, 62, 63, 64, 65, 66, 67, 68, 69, 70, 71, 72, 73, 74, 75, 76, 77, 78, 79, 80, 81, 82, 83, 84, 85, 86, 87, 88, 89, 90, 91, 92, 93, 94, 95, 96, 97, 98, 99, 100]\n",
      "{1: 51, 2: 98, 3: 74, 4: 64, 5: 63, 6: 99, 7: 20, 8: 30, 9: 62, 10: 86, 11: 84, 12: 93, 13: 45, 14: 53, 15: 79, 16: 10, 17: 83, 18: 1, 19: 31, 20: 27, 21: 75, 22: 3, 23: 76, 24: 19, 25: 7, 26: 91, 27: 47, 28: 12, 29: 56, 30: 68, 31: 96, 32: 29, 33: 37, 34: 36, 35: 42, 36: 24, 37: 48, 38: 72, 39: 2, 40: 13, 41: 32, 42: 14, 43: 69, 44: 61, 45: 57, 46: 88, 47: 16, 48: 46, 49: 89, 50: 55, 51: 4, 52: 92, 53: 35, 54: 26, 55: 6, 56: 28, 57: 40, 58: 5, 59: 15, 60: 8, 61: 23, 62: 95, 63: 73, 64: 18, 65: 38, 66: 52, 67: 94, 68: 60, 69: 100, 70: 90, 71: 80, 72: 85, 73: 25, 74: 70, 75: 71, 76: 33, 77: 22, 78: 43, 79: 50, 80: 21, 81: 65, 82: 39, 83: 9, 84: 59, 85: 82, 86: 77, 87: 66, 88: 78, 89: 54, 90: 97, 91: 49, 92: 11, 93: 87, 94: 67, 95: 44, 96: 34, 97: 17, 98: 81, 99: 58, 100: 41}\n"
     ]
    }
   ],
   "source": [
    "# Give each prisoner a random number\n",
    "import random\n",
    "\n",
    "prisoners_and_numbers =  {key: None for key in range(1, 101)}\n",
    "print(prisoners_and_numbers)\n",
    "\n",
    "num_list = list(range(1, 101)) \n",
    "print(num_list)\n",
    "\n",
    "for key in prisoners_and_numbers:\n",
    "    rand_num_index = random.randint(0, len(num_list) - 1) # could also use shuffle\n",
    "    prisoners_and_numbers[key] = num_list[rand_num_index]\n",
    "    num_list.pop(rand_num_index) # probably pretty inefficient\n",
    "\n",
    "print(prisoners_and_numbers)"
   ]
  },
  {
   "attachments": {},
   "cell_type": "markdown",
   "metadata": {},
   "source": [
    "Example: \n",
    "First prisoner(prisoner #1), get their value. i.e. their value is 2. get value of key 2, continuously get the next value of the key. add a loop limit of 50 b/c you can only open 50 boxes or break when the key equals the original value of the prisoner\n",
    "To test:\n",
    "loop 50 times\n",
    "get value of \n"
   ]
  },
  {
   "cell_type": "code",
   "execution_count": 134,
   "metadata": {},
   "outputs": [
    {
     "name": "stdout",
     "output_type": "stream",
     "text": [
      "1 - 51\n",
      "51 - 4\n",
      "4 - 64\n",
      "64 - 18\n",
      "18 - 1\n",
      "MATCHED\n",
      "\n",
      "2 - 98\n",
      "98 - 81\n",
      "81 - 65\n",
      "65 - 38\n",
      "38 - 72\n",
      "72 - 85\n",
      "85 - 82\n",
      "82 - 39\n",
      "39 - 2\n",
      "MATCHED\n",
      "\n",
      "3 - 74\n",
      "74 - 70\n",
      "70 - 90\n",
      "90 - 97\n",
      "97 - 17\n",
      "17 - 83\n",
      "83 - 9\n",
      "9 - 62\n",
      "62 - 95\n",
      "95 - 44\n",
      "44 - 61\n",
      "61 - 23\n",
      "23 - 76\n",
      "76 - 33\n",
      "33 - 37\n",
      "37 - 48\n",
      "48 - 46\n",
      "46 - 88\n",
      "88 - 78\n",
      "78 - 43\n",
      "43 - 69\n",
      "69 - 100\n",
      "100 - 41\n",
      "41 - 32\n",
      "32 - 29\n",
      "29 - 56\n",
      "56 - 28\n",
      "28 - 12\n",
      "12 - 93\n",
      "93 - 87\n",
      "87 - 66\n",
      "66 - 52\n",
      "52 - 92\n",
      "92 - 11\n",
      "11 - 84\n",
      "84 - 59\n",
      "59 - 15\n",
      "15 - 79\n",
      "79 - 50\n",
      "50 - 55\n",
      "55 - 6\n",
      "6 - 99\n",
      "99 - 58\n",
      "58 - 5\n",
      "5 - 63\n",
      "63 - 73\n",
      "73 - 25\n",
      "25 - 7\n",
      "7 - 20\n",
      "20 - 27\n",
      "False\n"
     ]
    }
   ],
   "source": [
    "attempts_to_find_number = 50\n",
    "\n",
    "for key in prisoners_and_numbers:\n",
    "    key__to_search_for = key\n",
    "    completed_in_fifty_loops = False\n",
    "    for attempt in range(attempts_to_find_number): # 50 tries to find their number\n",
    "        print(key,\"-\",prisoners_and_numbers[key])\n",
    "        # if(key == prisoners_and_numbers[key]): # smallest loop is 1  # we should be comparing the original key to the next key\n",
    "        if(key__to_search_for == prisoners_and_numbers[key]): # smallest loop is 1 \n",
    "            print(\"MATCHED\\n\")\n",
    "            completed_in_fifty_loops = True\n",
    "            break \n",
    "        else: \n",
    "            key = prisoners_and_numbers[key] # iterate through the loop\n",
    "    if not completed_in_fifty_loops:\n",
    "        break\n",
    "print(completed_in_fifty_loops)\n",
    "    \n",
    "    \n",
    "        \n",
    "\n"
   ]
  },
  {
   "cell_type": "code",
   "execution_count": 174,
   "metadata": {},
   "outputs": [
    {
     "name": "stdout",
     "output_type": "stream",
     "text": [
      "Times the prisoners survive: 31124\n",
      "Times prisoners do not survive: 68876\n"
     ]
    }
   ],
   "source": [
    "# put code together and refine \n",
    "\n",
    "\n",
    "import random\n",
    "prisoners_survive = 0\n",
    "prisoners_do_not_survive = 0\n",
    "attempts_to_find_number = 50\n",
    "simulations = 100000\n",
    "\n",
    "for i in range(simulations):\n",
    "    prisoners_and_numbers = {key: None for key in range(1, 101)}\n",
    "    # print(prisoners_and_numbers)\n",
    "    num_list = list(range(1, 101)) \n",
    "    # print(num_list)\n",
    "\n",
    "    for key in prisoners_and_numbers:\n",
    "        rand_num_index = random.randint(0, len(num_list) - 1) # could also use shuffle\n",
    "        prisoners_and_numbers[key] = num_list[rand_num_index]\n",
    "        num_list.pop(rand_num_index) # probably pretty inefficient\n",
    "\n",
    "    # print(prisoners_and_numbers)\n",
    "\n",
    "    for key in prisoners_and_numbers:\n",
    "        key__to_search_for = key\n",
    "        completed_in_fifty_loops = False\n",
    "        for attempt in range(attempts_to_find_number): # 50 tries to find their number\n",
    "            # print(key,\"-\",prisoners_and_numbers[key])\n",
    "            # if(key == prisoners_and_numbers[key]): # smallest loop is 1  # we should be comparing the original key to the next key\n",
    "            if(key__to_search_for == prisoners_and_numbers[key]): # smallest loop is 1 \n",
    "                # print(\"MATCHED\\n\")\n",
    "                completed_in_fifty_loops = True\n",
    "                break \n",
    "            else: \n",
    "                key = prisoners_and_numbers[key] # iterate through the loop\n",
    "        if not completed_in_fifty_loops:\n",
    "            break\n",
    "    # print(completed_in_fifty_loops)\n",
    "    if completed_in_fifty_loops:\n",
    "        prisoners_survive += 1\n",
    "    else:\n",
    "        prisoners_do_not_survive += 1\n",
    "\n",
    "print(\"Times the prisoners survive:\", prisoners_survive)\n",
    "print(\"Times prisoners do not survive:\", prisoners_do_not_survive)\n",
    "\n",
    "        \n",
    "        "
   ]
  }
 ],
 "metadata": {
  "kernelspec": {
   "display_name": "base",
   "language": "python",
   "name": "python3"
  },
  "language_info": {
   "codemirror_mode": {
    "name": "ipython",
    "version": 3
   },
   "file_extension": ".py",
   "mimetype": "text/x-python",
   "name": "python",
   "nbconvert_exporter": "python",
   "pygments_lexer": "ipython3",
   "version": "3.10.8"
  },
  "orig_nbformat": 4
 },
 "nbformat": 4,
 "nbformat_minor": 2
}
